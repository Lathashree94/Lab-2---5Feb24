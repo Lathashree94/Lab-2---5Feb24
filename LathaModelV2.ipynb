{
 "cells": [
  {
   "cell_type": "code",
   "execution_count": null,
   "id": "f7f6626f-9286-4ba5-afad-442837e2c148",
   "metadata": {},
   "outputs": [],
   "source": [
    "\n",
    "import pandas as pd\n",
    "import matplotlib.pyplot as plt\n",
    "import seaborn as sns\n",
    "from sklearn.model_selection import train_test_split\n",
    "from sklearn.preprocessing import StandardScaler\n",
    "from sklearn.ensemble import RandomForestClassifier\n",
    "from sklearn.metrics import accuracy_score, confusion_matrix\n",
    " \n",
    "# Assuming the data does not have a header and is comma-separated\n",
    "# You might need to adjust the path to where your file is located\n",
    "data_path = \"C:\\\\Users\\\\latha\\\\Downloads\\\\Assignment\\\\2024 Assignment\\\\2004 - AI Exp\\\\breast+cancer+wisconsin+diagnostic\\\\wdbc.data\"\n",
    " \n",
    "# Define column names manually based on the dataset description\n",
    "column_names = ['ID', 'Diagnosis'] + [f'feature_{i}' for i in range(1, 31)]\n",
    " \n",
    "# Load the dataset\n",
    "df = pd.read_csv(data_path, header=None, names=column_names)\n",
    " \n",
    "# Map diagnosis to a binary variable\n",
    "df['Diagnosis'] = df['Diagnosis'].map({'M': 1, 'B': 0})\n",
    " \n",
    "# Display the first few rows of the dataframe\n",
    "print(df.head())\n",
    " \n",
    "\n"
   ]
  },
  {
   "cell_type": "code",
   "execution_count": null,
   "id": "c2504bfc-15ff-4c6c-8b73-4b0bc2ddf454",
   "metadata": {},
   "outputs": [],
   "source": [
    "\n",
    "# Distribution of target variable\n",
    "plt.figure(figsize=(6, 4))\n",
    "sns.countplot(x='Diagnosis', data=df)\n",
    "plt.title('Distribution of Target Classes')\n",
    "plt.show()\n",
    " \n",
    "# Correlation heatmap\n",
    "plt.figure(figsize=(10, 10))\n",
    "sns.heatmap(df.corr(), annot=False, cmap='coolwarm')\n",
    "plt.title('Feature Correlation Heatmap')\n",
    "plt.show()\n",
    " \n",
    "# Splitting the dataset into training and testing sets\n",
    "X = df.drop('Diagnosis', axis=1)\n",
    "y = df['Diagnosis']\n",
    "X_train, X_test, y_train, y_test = train_test_split(X, y, test_size=0.2, random_state=42)\n",
    " \n",
    "# Standardizing the features\n",
    "scaler = StandardScaler()\n",
    "X_train_scaled = scaler.fit_transform(X_train)\n",
    "X_test_scaled = scaler.transform(X_test)\n",
    " \n",
    "# Initialize and train the Random Forest classifier\n",
    "rf_model = RandomForestClassifier(n_estimators=100, random_state=42)\n",
    "rf_model.fit(X_train_scaled, y_train)\n",
    " \n",
    "# Predictions\n",
    "y_pred_rf = rf_model.predict(X_test_scaled)"
   ]
  },
  {
   "cell_type": "code",
   "execution_count": null,
   "id": "6c56da35-6883-4293-9038-ea00c79f5409",
   "metadata": {},
   "outputs": [],
   "source": [
    "# Evaluating the model\n",
    "accuracy_rf = accuracy_score(y_test, y_pred_rf)\n",
    "conf_matrix_rf = confusion_matrix(y_test, y_pred_rf)\n",
    "print(f'Accuracy of Random Forest: {accuracy_rf}')\n",
    "print('Confusion Matrix of Random Forest:')\n",
    "print(conf_matrix_rf)"
   ]
  }
 ],
 "metadata": {
  "kernelspec": {
   "display_name": "Python 3 (ipykernel)",
   "language": "python",
   "name": "python3"
  },
  "language_info": {
   "codemirror_mode": {
    "name": "ipython",
    "version": 3
   },
   "file_extension": ".py",
   "mimetype": "text/x-python",
   "name": "python",
   "nbconvert_exporter": "python",
   "pygments_lexer": "ipython3",
   "version": "3.11.6"
  }
 },
 "nbformat": 4,
 "nbformat_minor": 5
}
